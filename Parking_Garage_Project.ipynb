{
  "cells": [
    {
      "cell_type": "markdown",
      "metadata": {
        "id": "view-in-github",
        "colab_type": "text"
      },
      "source": [
        "<a href=\"https://colab.research.google.com/github/francheese9289/parkingGarage/blob/main/Parking_Garage_Project.ipynb\" target=\"_parent\"><img src=\"https://colab.research.google.com/assets/colab-badge.svg\" alt=\"Open In Colab\"/></a>"
      ]
    },
    {
      "cell_type": "markdown",
      "metadata": {
        "id": "oz_qKl7t2aXZ"
      },
      "source": [
        "# Parking Garage Project\n",
        "\n",
        "Your assignment for today is to create a parking garage class to get more familiar with Object Oriented Programming(OOP).\n",
        "\n",
        "Your parking gargage class should have the following methods:\n",
        "- takeTicket\n",
        "   - This should decrease the amount of tickets available by 1\n",
        "   - This should decrease the amount of parkingSpaces available by 1\n",
        "- payForParking\n",
        "   - Display an input that waits for an amount from the user and store it in a variable\n",
        "   - If the payment variable is not empty then ->  display a message to the user that their ticket has been paid and they have 15mins to leave\n",
        "   - This should update the \"currentTicket\" dictionary key \"paid\" to True\n",
        "-leaveGarage\n",
        "   - If the ticket has been paid, display a message of \"Thank You, have a nice day\"\n",
        "   - If the ticket has not been paid, display an input prompt for payment\n",
        "      - Once paid, display message \"Thank you, have a nice day!\"\n",
        "   - Update parkingSpaces list to increase by 1\n",
        "   - Update tickets list to increase by 1\n",
        "\n",
        "You will need a few attributes as well:\n",
        "- tickets -> list\n",
        "- parkingSpaces -> list\n",
        "- currentTicket -> dictionary"
      ]
    },
    {
      "cell_type": "code",
      "execution_count": 2,
      "metadata": {
        "id": "VgbpzfVu2aXb"
      },
      "outputs": [],
      "source": [
        "class ParkingGarage():\n",
        "  '''description goes here'''\n",
        "\n",
        "  def __init__(self, tickets = [x for x in range (1,11)], parkingSpaces = [x for x in range (1,11)], currentTicket = {}, charge = 0):\n",
        "    self.tickets = tickets\n",
        "    self.parkingSpaces = parkingSpaces\n",
        "    self.currentTicket = currentTicket\n",
        "    self.charge = charge\n",
        "\n",
        "  def garageMarquee(self):\n",
        "    \"\"\"Displays the parking spaces and number of tickets currently available.\"\"\"\n",
        "    print (f'***Welcome to Personified Parking Garage!*** \\n*Parking spaces available for only $5/hour!*\\nNumber of tickets available: ', len(self.tickets))\n",
        "    print (f'Available parking spaces: ')\n",
        "    for spaces in self.parkingSpaces:\n",
        "      print (f'space # ', spaces)\n",
        "\n",
        "  def takeTicket(self):\n",
        "    \"\"\"Adds an unpaid ticket to the current ticket dictionary.\n",
        "    Decreases the number of tickets and spaces available by one each.\"\"\"\n",
        "    self.currentTicket['Ticket Number'] = self.tickets[0]\n",
        "    self.currentTicket ['Paid'] = False\n",
        "    self.charge += 5\n",
        "    del self.tickets[0]\n",
        "    del self.parkingSpaces[0]\n",
        "    print (f'Your ticket number is', str(self.currentTicket['Ticket Number']))\n",
        "    self.garageMarquee()\n",
        "\n",
        "  def payForParking(self):\n",
        "    \"\"\"Shows customer receipt with number of hours parked.\n",
        "    Asks for payment. Payments that are exact or over are accepted, change is made\n",
        "    and customer is sent to leave garage.\n",
        "    Under paying ticket will move customer to back of the line (start over again).\n",
        "    \"\"\"\n",
        "    print(f'You are ticket #', self.currentTicket['Ticket Number'])\n",
        "\n",
        "    if self.currentTicket['Paid'] == True:\n",
        "      print ('Your ticket is already paid. Please proceed to the exit.')\n",
        "    else:\n",
        "      while True:\n",
        "        self.charge += 5\n",
        "        print (f\"Time in parking garage: {str(self.charge/5)}\\nAmount owed: {str(self.charge)}\")\n",
        "        payment = int(input('To pay, please enter the amount owed.\\nEnter 0 to quit: $'))\n",
        "        if payment < self.charge and payment > 0:\n",
        "          print(f'{str(payment)} is ${str(self.charge - payment)} less than what you owe.')\n",
        "        elif payment > self.charge:\n",
        "          self.currentTicket['Paid'] = True\n",
        "          print(f'Thank you for your payment! Your change is ${payment - self.charge}')\n",
        "          self.charge=0\n",
        "          print ('You now have 15 minutes to exit the parking lot.')\n",
        "          break\n",
        "        elif payment == self.charge:\n",
        "          self.currentTicket['Paid'] = True\n",
        "          self.charge=0\n",
        "          print ('Thank you for your payment! You now have 15 minutes to exit the parking lot.')\n",
        "          break\n",
        "        else:\n",
        "          self.charge += 5\n",
        "          print('Please return when you are ready to pay.')\n",
        "          break\n",
        "\n",
        "\n",
        "\n",
        "  def leaveGarage(self):\n",
        "    \"\"\"Checks to see if the ticket has been paid.\n",
        "    Customers with unpaid tickets are sent to payment counter.\n",
        "    Paid tickets are added back to the ticket & parking space lists.\n",
        "    \"\"\"\n",
        "    if self.currentTicket['Paid'] == True:\n",
        "      print('Thank you for parking here, have a nice day!')\n",
        "      self.tickets.insert(0, self.currentTicket['Ticket Number'])\n",
        "      self.parkingSpaces.insert(0, self.currentTicket['Ticket Number'])\n",
        "      self.garageMarquee()\n",
        "    else:\n",
        "      self.charge += 5\n",
        "      print('You have not paid for parking yet.')\n",
        "      self.payForParking()\n",
        "\n"
      ]
    },
    {
      "cell_type": "code",
      "source": [
        "test_drive = ParkingGarage()\n",
        "test_drive.takeTicket()\n",
        "test_drive.leaveGarage()"
      ],
      "metadata": {
        "colab": {
          "base_uri": "https://localhost:8080/"
        },
        "id": "zoBdajjjKFR1",
        "outputId": "4e7df10d-4d10-4e78-9b7f-e763202f34eb"
      },
      "execution_count": 4,
      "outputs": [
        {
          "output_type": "stream",
          "name": "stdout",
          "text": [
            "Your ticket number is 1\n",
            "***Welcome to Personified Parking Garage!*** \n",
            "*Parking spaces available for only $5/hour!*\n",
            "Number of tickets available:  9\n",
            "Available parking spaces: \n",
            "space #  2\n",
            "space #  3\n",
            "space #  4\n",
            "space #  5\n",
            "space #  6\n",
            "space #  7\n",
            "space #  8\n",
            "space #  9\n",
            "space #  10\n",
            "You have not paid for parking yet.\n",
            "You are ticket # 1\n",
            "Time in parking garage: 3.0\n",
            "Amount owed: 15\n",
            "To pay, please enter the amount owed.\n",
            "Enter 0 to quit: $15\n",
            "Thank you for your payment! You now have 15 minutes to exit the parking lot.\n"
          ]
        }
      ]
    },
    {
      "cell_type": "code",
      "source": [],
      "metadata": {
        "id": "JTiWoWgwVCPN"
      },
      "execution_count": null,
      "outputs": []
    }
  ],
  "metadata": {
    "kernelspec": {
      "display_name": "Python 3",
      "language": "python",
      "name": "python3"
    },
    "language_info": {
      "codemirror_mode": {
        "name": "ipython",
        "version": 3
      },
      "file_extension": ".py",
      "mimetype": "text/x-python",
      "name": "python",
      "nbconvert_exporter": "python",
      "pygments_lexer": "ipython3",
      "version": "3.7.3"
    },
    "colab": {
      "provenance": [],
      "include_colab_link": true
    }
  },
  "nbformat": 4,
  "nbformat_minor": 0
}